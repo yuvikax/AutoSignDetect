{
  "nbformat": 4,
  "nbformat_minor": 0,
  "metadata": {
    "colab": {
      "provenance": []
    },
    "kernelspec": {
      "name": "python3",
      "display_name": "Python 3"
    },
    "language_info": {
      "name": "python"
    }
  },
  "cells": [
    {
      "cell_type": "code",
      "execution_count": null,
      "metadata": {
        "id": "SXIB-UOEh_U4",
        "colab": {
          "base_uri": "https://localhost:8080/"
        },
        "outputId": "37400bf1-eb26-4119-f9ac-bbf1289d02b5"
      },
      "outputs": [
        {
          "output_type": "stream",
          "name": "stdout",
          "text": [
            "Archive:  cedar.zip\n",
            "  inflating: cedar/.DS_Store         \n",
            "   creating: cedar/01/\n",
            "  inflating: cedar/01/forgeries_01_22.png  \n",
            "  inflating: cedar/01/forgeries_01_23.png  \n",
            "  inflating: cedar/01/forgeries_01_24.png  \n",
            "  inflating: cedar/01/original_01_22.png  \n",
            "  inflating: cedar/01/original_01_23.png  \n",
            "  inflating: cedar/01/original_01_24.png  \n"
          ]
        }
      ],
      "source": [
        "!unzip cedar.zip"
      ]
    },
    {
      "cell_type": "code",
      "source": [
        "!unzip BHSig260.zip"
      ],
      "metadata": {
        "colab": {
          "base_uri": "https://localhost:8080/"
        },
        "id": "8YB1o1k_q6a1",
        "outputId": "9ce8a5f1-33e5-459b-f3a2-45402e132d5d"
      },
      "execution_count": null,
      "outputs": [
        {
          "output_type": "stream",
          "name": "stdout",
          "text": [
            "Archive:  BHSig260.zip\n",
            "  inflating: BHSig260/.DS_Store      \n",
            "   creating: BHSig260/Bengali/\n",
            "   creating: BHSig260/Bengali/001/\n",
            "  inflating: BHSig260/Bengali/001/.DS_Store  \n",
            "  inflating: BHSig260/Bengali/001/B-S-1-F-01.tif  \n",
            "  inflating: BHSig260/Bengali/001/B-S-1-F-02.tif  \n",
            "  inflating: BHSig260/Bengali/001/B-S-1-F-03.tif  \n",
            "  inflating: BHSig260/Bengali/001/B-S-1-G-01.tif  \n",
            "  inflating: BHSig260/Bengali/001/B-S-1-G-02.tif  \n",
            "  inflating: BHSig260/Bengali/001/B-S-1-G-03.tif  \n",
            "   creating: BHSig260/English/\n",
            "   creating: BHSig260/English/001/\n",
            "  inflating: BHSig260/English/001/E-S-1-F-01.png  \n",
            "  inflating: BHSig260/English/001/E-S-1-F-02.png  \n",
            "  inflating: BHSig260/English/001/E-S-1-F-03.png  \n",
            "  inflating: BHSig260/English/001/E-S-1-F-04.png  \n",
            "  inflating: BHSig260/English/001/E-S-1-F-05.png  \n",
            "  inflating: BHSig260/English/001/E-S-1-G-01.png  \n",
            "  inflating: BHSig260/English/001/E-S-1-G-02.png  \n",
            "  inflating: BHSig260/English/001/E-S-1-G-03.png  \n",
            "  inflating: BHSig260/English/001/E-S-1-G-04.png  \n",
            "  inflating: BHSig260/English/001/E-S-1-G-05.png  \n",
            "   creating: BHSig260/Hindi/\n",
            "   creating: BHSig260/Hindi/001/\n",
            "  inflating: BHSig260/Hindi/001/.DS_Store  \n",
            "  inflating: BHSig260/Hindi/001/H-S-1-F-01.tif  \n",
            "  inflating: BHSig260/Hindi/001/H-S-1-F-02.tif  \n",
            "  inflating: BHSig260/Hindi/001/H-S-1-F-03.tif  \n",
            "  inflating: BHSig260/Hindi/001/H-S-1-G-01.tif  \n",
            "  inflating: BHSig260/Hindi/001/H-S-1-G-02.tif  \n",
            "  inflating: BHSig260/Hindi/001/H-S-1-G-03.tif  \n"
          ]
        }
      ]
    },
    {
      "cell_type": "code",
      "source": [
        "!unzip forged.zip"
      ],
      "metadata": {
        "colab": {
          "base_uri": "https://localhost:8080/"
        },
        "id": "12bAPvSeuC2_",
        "outputId": "e8b0d50e-5911-42d7-ed67-961ba258c6b2"
      },
      "execution_count": null,
      "outputs": [
        {
          "output_type": "stream",
          "name": "stdout",
          "text": [
            "Archive:  forged.zip\n",
            "  inflating: forged/.DS_Store        \n",
            "  inflating: forged/021001_000.png   \n",
            "  inflating: forged/021001_001.png   \n",
            "  inflating: forged/021001_002.png   \n"
          ]
        }
      ]
    },
    {
      "cell_type": "code",
      "source": [
        "!unzip genuine.zip"
      ],
      "metadata": {
        "colab": {
          "base_uri": "https://localhost:8080/"
        },
        "id": "QXXO8-1FuKIj",
        "outputId": "0782d8df-bda7-4476-d425-9e920b1b86e8"
      },
      "execution_count": null,
      "outputs": [
        {
          "output_type": "stream",
          "name": "stdout",
          "text": [
            "Archive:  genuine.zip\n",
            "  inflating: genuine/.DS_Store       \n",
            "  inflating: genuine/001001_000.png  \n",
            "  inflating: genuine/001001_001.png  \n",
            "  inflating: genuine/001001_002.png  \n",
            "  inflating: genuine/001001_003.png  \n"
          ]
        }
      ]
    },
    {
      "cell_type": "code",
      "source": [
        "!unzip data.zip"
      ],
      "metadata": {
        "colab": {
          "base_uri": "https://localhost:8080/"
        },
        "id": "gr5BPeQmzgMn",
        "outputId": "5206b0c7-8b7a-49f0-ed80-72bfac4b767b"
      },
      "execution_count": null,
      "outputs": [
        {
          "output_type": "stream",
          "name": "stdout",
          "text": [
            "Archive:  data.zip\n",
            " extracting: data/forged.zip         \n",
            "   creating: data/forged/\n",
            "  inflating: data/forged/.DS_Store   \n",
            "  inflating: data/forged/021001_000.png  \n",
            "  inflating: data/forged/021001_001.png  \n",
            "  inflating: data/forged/021001_002.png  \n",
            " extracting: data/genuine.zip        \n",
            "   creating: data/genuine/\n",
            "  inflating: data/genuine/.DS_Store  \n",
            "  inflating: data/genuine/001001_000.png  \n",
            "  inflating: data/genuine/001001_001.png  \n",
            "  inflating: data/genuine/001001_002.png  \n",
            "  inflating: data/genuine/001001_003.png  \n"
          ]
        }
      ]
    },
    {
      "cell_type": "code",
      "source": [
        "import os\n",
        "from sys import platform"
      ],
      "metadata": {
        "id": "02_Wxq5WreQZ"
      },
      "execution_count": null,
      "outputs": []
    },
    {
      "cell_type": "code",
      "source": [
        "forged_path = \"/content/forged\"\n",
        "genuine_path = \"/content/genuine\""
      ],
      "metadata": {
        "id": "MlfMqmEksU1U"
      },
      "execution_count": null,
      "outputs": []
    },
    {
      "cell_type": "code",
      "source": [
        "orig_groups, forg_groups = [], []\n",
        "forged_images = os.listdir(forged_path)\n",
        "forged_images.sort()\n",
        "original_images = os.listdir(genuine_path)\n",
        "original_images.sort()"
      ],
      "metadata": {
        "id": "zfSti64RscvO"
      },
      "execution_count": null,
      "outputs": []
    },
    {
      "cell_type": "code",
      "source": [
        "path = \"/content/cedar\"\n",
        "try:\n",
        "\tos.makedirs(path)\n",
        "except:\n",
        "\tprint('Directory exists')\n",
        "for i in range(1,56,1):\n",
        "    try:\n",
        "        os.makedirs(path+str(i).zfill(2)+'/')\n",
        "        #os.makedirs(path+str(i).zfill(2)+'/forged/')\n",
        "        #os.makedirs(path+str(i).zfill(2)+'/genuine/')\n",
        "    except:\n",
        "        print('Directories exist')"
      ],
      "metadata": {
        "colab": {
          "base_uri": "https://localhost:8080/"
        },
        "id": "pznZCB0Tudhn",
        "outputId": "9e9c334d-e335-4158-d416-a32eb1353eff"
      },
      "execution_count": null,
      "outputs": [
        {
          "output_type": "stream",
          "name": "stdout",
          "text": [
            "Directory exists\n"
          ]
        }
      ]
    },
    {
      "cell_type": "code",
      "source": [
        "for image in forged_images:\n",
        "    name = image.split('_')\n",
        "    if(len(name)<3):\n",
        "        continue\n",
        "#     print(name)\n",
        "    folder = name[1].zfill(2)\n",
        "    orig_idx = name[2].split('.')[0]\n",
        "    new_idx = orig_idx.zfill(2)\n",
        "    new_name = name[0]+'_'+folder+'_'+new_idx+'.'+name[2].split('.')[1]\n",
        "    command = 'cp '+ forged_path+image +' '+path+folder+'/'+ new_name\n",
        "    #command = 'copy '+ forged_path+image +' '+path+folder+'/forged/'+ new_name\n",
        "    print(command)\n",
        "    os.system(command)"
      ],
      "metadata": {
        "id": "7mNzsONeuocq"
      },
      "execution_count": null,
      "outputs": []
    },
    {
      "cell_type": "code",
      "source": [
        "for image in original_images:\n",
        "    name = image.split('_')\n",
        "    if(len(name)<3):\n",
        "        continue\n",
        "#     print(name)\n",
        "    folder = name[1].zfill(2)\n",
        "    orig_idx = name[2].split('.')[0]\n",
        "    new_idx = orig_idx.zfill(2)\n",
        "    new_name = name[0]+'_'+folder+'_'+new_idx+'.'+name[2].split('.')[1]\n",
        "    command = 'cp '+ genuine_path+image +' '+path+folder+'/'+ new_name\n",
        "    #command = 'copy '+ forged_path+image +' '+path+folder+'/genuine/'+ new_name\n",
        "    print(command)\n",
        "    os.system(command)"
      ],
      "metadata": {
        "id": "guXBKXHNuyOz"
      },
      "execution_count": null,
      "outputs": []
    },
    {
      "cell_type": "code",
      "source": [
        "import os\n",
        "import numpy as np"
      ],
      "metadata": {
        "id": "KWbhfcUxvIjV"
      },
      "execution_count": null,
      "outputs": []
    },
    {
      "cell_type": "code",
      "source": [
        "BHSig260_path = '/content/BHSig260'\n",
        "BHSig260mod_path = '/content/data'"
      ],
      "metadata": {
        "id": "cWj2CJ5hvJX4"
      },
      "execution_count": null,
      "outputs": []
    },
    {
      "cell_type": "code",
      "source": [
        "def check_dir(dir_path):\n",
        "\tif not os.path.exists(dir_path):\n",
        "\t\tos.makedirs(dir_path)\n",
        "\n",
        "ind_count = 10"
      ],
      "metadata": {
        "id": "6fc9H26GxiT3"
      },
      "execution_count": null,
      "outputs": []
    },
    {
      "cell_type": "code",
      "source": [
        "#Parsing through BHSig260 dataset to convert it into forged and genuine data split\n",
        "for root,dirs,files in sorted(os.walk(BHSig260_path)):\n",
        "\tind_count=ind_count+1\n",
        "\tif ind_count > 99:\n",
        "\t\tind_id = str(ind_count)\n",
        "\telse:\n",
        "\t\tind_id = '0' + str(ind_count)\n",
        "\n",
        "\tfor file in sorted(files):\n",
        "\t\tfpath = os.path.join(root,file)\n",
        "\n",
        "\t\tif fpath.endswith(('.bmp','.tif','.jpg','.jpeg','.png')):\n",
        "\t\t\t# print(fpath)\n",
        "\t\t\t# print(ind_count)\n",
        "\t\t\tForG = fpath.split('-')[-2] #F or G\n",
        "\t\t\timg_count = int(fpath.split('-')[-1][:-4]) -1\n",
        "\t\t\t# print(img_count)\n",
        "\n",
        "\t\t\tif img_count > 9:\n",
        "\t\t\t\timg_no = '0' + str(img_count)\n",
        "\t\t\telse:\n",
        "\t\t\t\timg_no = '00' + str(img_count)\n",
        "\n",
        "\t\t\tif ForG == 'F':\n",
        "\t\t\t\timg_id = '021'+ str(ind_id) + '_' + str(img_no) + '.tif'\n",
        "\t\t\t\tcommand = 'cp '+ fpath +' '+os.path.join(BHSig260mod_path,'forged/')+ img_id\n",
        "\t\t\t\tos.system(command)\n",
        "\t\t\t\t# print(command)\n",
        "\t\t\telse:\n",
        "\t\t\t\timg_id = str(ind_id) + str(ind_id) + '_' + str(img_no) + '.tif'\n",
        "\t\t\t\tcommand = 'cp '+ fpath +' '+os.path.join(BHSig260mod_path,'genuine/')+ img_id\n",
        "\t\t\t\t# print(command)\n",
        "\t\t\t\tos.system(command)"
      ],
      "metadata": {
        "id": "gaqT02PPxqM4"
      },
      "execution_count": null,
      "outputs": []
    },
    {
      "cell_type": "code",
      "source": [
        "#Copying english dataset into forged and genuine split\n",
        "\n",
        "cmd = 'cp '+'./data/forged/*' + ' ' + os.path.join(BHSig260mod_path,'forged/')\n",
        "os.system(cmd)\n",
        "cmd = 'cp '+'./data/genuine/*' + ' ' + os.path.join(BHSig260mod_path,'genuine/')\n",
        "os.system(cmd)"
      ],
      "metadata": {
        "id": "gcP20Ng7z5WN",
        "outputId": "da135404-0d2d-4a97-ae70-1ac722ca2c17",
        "colab": {
          "base_uri": "https://localhost:8080/"
        }
      },
      "execution_count": null,
      "outputs": [
        {
          "output_type": "execute_result",
          "data": {
            "text/plain": [
              "256"
            ]
          },
          "metadata": {},
          "execution_count": 20
        }
      ]
    }
  ]
}